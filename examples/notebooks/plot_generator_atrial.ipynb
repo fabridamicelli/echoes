{
 "cells": [
  {
   "cell_type": "code",
   "execution_count": 1,
   "metadata": {},
   "outputs": [],
   "source": [
    "%load_ext autoreload\n",
    "%autoreload 2"
   ]
  },
  {
   "cell_type": "code",
   "execution_count": null,
   "metadata": {},
   "outputs": [],
   "source": [
    "import numpy as np\n",
    "from matplotlib import pyplot as plt\n",
    "from sklearn.model_selection import train_test_split\n",
    "from sklearn.preprocessing import StandardScaler\n",
    "from echoes import ESNGenerator\n",
    "from echoes.plotting import (\n",
    "    plot_predicted_ts,\n",
    "    set_mystyle, \n",
    "    plot_reservoir_activity, \n",
    "    plot_predicted_ts\n",
    ")\n",
    "\n",
    "set_mystyle()\n",
    "\n",
    "# Load and split data\n",
    "ts = np.loadtxt('../data/afib.txt').reshape(-1, 1)\n",
    "n_train_steps, n_test_steps = 4000, 1000\n",
    "n_total_steps = n_train_steps + n_test_steps\n",
    "\n",
    "y_train, y_test = train_test_split(\n",
    "    ts, \n",
    "    train_size=n_train_steps, \n",
    "    test_size=n_test_steps, \n",
    "    shuffle=False\n",
    ")\n",
    "\n",
    "esn = ESNGenerator(\n",
    "    n_steps=n_test_steps,\n",
    "    n_reservoir=1000,\n",
    "    spectral_radius=1.9,\n",
    "    random_state=42,\n",
    "    store_states_pred=True,\n",
    ")\n",
    "\n",
    "scaler = StandardScaler()\n",
    "y_train = scaler.fit_transform(y_train)\n",
    "y_test = scaler.transform(y_test)\n",
    "esn.fit(y=y_train)\n",
    "y_pred = esn.predict()\n",
    "\n",
    "plot_predicted_ts(y_train, esn.training_prediction_, figsize=(12, 5), title=\"Training\")\n",
    "plot_predicted_ts(y_test, y_pred, figsize=(12, 5), title=\"Test\")\n",
    "plot_reservoir_activity(\n",
    "    esn,\n",
    "    neurons=list(range(15)),\n",
    "    pred=True,\n",
    "    start=100,\n",
    "    end=200,\n",
    ");"
   ]
  },
  {
   "cell_type": "code",
   "execution_count": null,
   "metadata": {},
   "outputs": [],
   "source": []
  }
 ],
 "metadata": {
  "kernelspec": {
   "display_name": "Python 3 (ipykernel)",
   "language": "python",
   "name": "python3"
  },
  "language_info": {
   "codemirror_mode": {
    "name": "ipython",
    "version": 3
   },
   "file_extension": ".py",
   "mimetype": "text/x-python",
   "name": "python",
   "nbconvert_exporter": "python",
   "pygments_lexer": "ipython3",
   "version": "3.9.21"
  }
 },
 "nbformat": 4,
 "nbformat_minor": 4
}
