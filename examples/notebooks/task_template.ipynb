{
 "cells": [
  {
   "cell_type": "code",
   "execution_count": 2,
   "metadata": {},
   "outputs": [],
   "source": [
    "\"\"\"\n",
    "Example of an arbitrary task and how to wrap it up with a GridSearchTask.\n",
    "\n",
    "In this example, the task generates its own data. So the score method just\n",
    "calls fit method and returns the performance metric.\n",
    "\n",
    "In this case, train/test data are generated separately. \n",
    "But they could be organized arbitrarily differently\n",
    "as long as the score method then knows how to return the \n",
    "performance of the network on the task (with the given esn_params).\n",
    "\"\"\"\n",
    "from echoes import ESNPredictive\n",
    "from echoes.model_selection import GridSearchTask\n",
    "\n",
    "\n",
    "class NewTask:\n",
    "    def __init__(self, a=1, b=2, esn_params=None):\n",
    "        self.a = a\n",
    "        self.b = b\n",
    "        self.esn_params = esn_params\n",
    "    \n",
    "    def train_data_maker(self):\n",
    "        \"\"\"Function that generates train data for your taks\"\"\"\n",
    "        return None\n",
    "    \n",
    "    def test_data_maker(self):\n",
    "        \"\"\"Function that generates test data for your taks\"\"\"\n",
    "        return None\n",
    "    \n",
    "    def fit(self):\n",
    "        # Do whatever you want, eg train en ESN to remember patterns.\n",
    "        # For example, something that looks like this        \n",
    "        self.esn = ESNPredictive(**self.esn_params)\n",
    "        X_train, y_train = self.train_data_maker()\n",
    "        self.esn.fit(X_train, y_train) \n",
    "    \n",
    "    def score(self):        \n",
    "        self.fit()\n",
    "        X_test, y_test = self.test_data_maker()\n",
    "        y_predicted = self.esn.predict(X_test)        \n",
    "        return mean_squared_error(y_predicted, y_test)\n",
    "\n",
    "    \n",
    "# So the NewTask class can be easily wrapped up by GridSearchTask\n",
    "\n",
    "param_grid = {}  # esn parameters to test, eg. bias, spectral radius\n",
    "task_param = {}  # task parameters, eg. time lags, noise, these are fixed\n",
    "\n",
    "grid = GridSearchTask(NewTask, task_params, param_grid)\n",
    "grid.fit()\n",
    "grid.to_dataframe()   # export results to dataframe\n",
    "grid.to_dataframe().to_csv(\"filename\")   # export results to file"
   ]
  }
 ],
 "metadata": {
  "kernelspec": {
   "display_name": "Python 3",
   "language": "python",
   "name": "python3"
  },
  "language_info": {
   "codemirror_mode": {
    "name": "ipython",
    "version": 3
   },
   "file_extension": ".py",
   "mimetype": "text/x-python",
   "name": "python",
   "nbconvert_exporter": "python",
   "pygments_lexer": "ipython3",
   "version": "3.7.0"
  }
 },
 "nbformat": 4,
 "nbformat_minor": 2
}
