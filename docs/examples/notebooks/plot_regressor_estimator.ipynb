{
 "cells": [
  {
   "cell_type": "code",
   "execution_count": 1,
   "metadata": {},
   "outputs": [],
   "source": [
    "%load_ext autoreload\n",
    "%autoreload 2"
   ]
  },
  {
   "cell_type": "code",
   "execution_count": 2,
   "metadata": {
    "tags": []
   },
   "outputs": [],
   "source": [
    "import matplotlib.pyplot as plt\n",
    "import numpy as np\n",
    "from sklearn.metrics import r2_score\n",
    "from sklearn.model_selection import train_test_split\n",
    "\n",
    "from echoes import ESNRegressor, ESNGenerator"
   ]
  },
  {
   "cell_type": "code",
   "execution_count": 3,
   "metadata": {},
   "outputs": [
    {
     "data": {
      "text/plain": [
       "'2.2.6'"
      ]
     },
     "execution_count": 3,
     "metadata": {},
     "output_type": "execute_result"
    }
   ],
   "source": [
    "import numpy\n",
    "numpy.__version__"
   ]
  },
  {
   "cell_type": "code",
   "execution_count": 4,
   "metadata": {},
   "outputs": [],
   "source": [
    "from sklearn.utils.estimator_checks import check_estimator"
   ]
  },
  {
   "cell_type": "code",
   "execution_count": 6,
   "metadata": {},
   "outputs": [
    {
     "ename": "TypingError",
     "evalue": "Failed in nopython mode pipeline (step: nopython frontend)\nFailed in nopython mode pipeline (step: nopython frontend)\nFailed in nopython mode pipeline (step: native lowering)\nFailed in nopython mode pipeline (step: nopython frontend)\nNo implementation of function Function(<built-in function dot>) found for signature:\n \n >>> dot(array(int64, 2d, C), array(int64, 1d, C), array(int64, 1d, C))\n \nThere are 4 candidate implementations:\n      - Of which 2 did not match due to:\n      Overload in function 'dot_2': File: numba/np/linalg.py: Line 536.\n        With argument(s): '(array(int64, 2d, C), array(int64, 1d, C), array(int64, 1d, C))':\n       Rejected as the implementation raised a specific error:\n         TypingError: too many positional arguments\n  raised from /home/fdamicel/projects/echoes/.venv/lib/python3.13/site-packages/numba/core/typing/templates.py:791\n      - Of which 2 did not match due to:\n      Overload in function 'dot_3': File: numba/np/linalg.py: Line 795.\n        With argument(s): '(array(int64, 2d, C), array(int64, 1d, C), array(int64, 1d, C))':\n       Rejected as the implementation raised a specific error:\n         NumbaTypeError: Failed in nopython mode pipeline (step: native lowering)\n       unsupported dtype for <BLAS function>()\n       During: lowering \"$14call.5 = call $6load_deref.0(left, right, out, func=$6load_deref.0, args=[Var(left, linalg.py:828), Var(right, linalg.py:828), Var(out, linalg.py:828)], kws=(), vararg=None, varkwarg=None, target=None)\" at /home/fdamicel/projects/echoes/.venv/lib/python3.13/site-packages/numba/np/linalg.py (828)\n       During: Pass native_lowering\n  raised from /home/fdamicel/projects/echoes/.venv/lib/python3.13/site-packages/numba/np/linalg.py:62\n\nDuring: resolving callee type: Function(<built-in function dot>)\nDuring: typing of call at /home/fdamicel/projects/echoes/.venv/lib/python3.13/site-packages/numba/np/linalg.py (503)\n\n\nFile \"../../.venv/lib/python3.13/site-packages/numba/np/linalg.py\", line 503:\n    def dot_impl(a, b):\n        <source elided>\n        out = np.empty((m, ), a.dtype)\n        return np.dot(a, b, out)\n        ^\n\nDuring: Pass nopython_type_inference\nDuring: lowering \"$12call.4 = call $6load_deref.0(left, right, func=$6load_deref.0, args=[Var(left, linalg.py:593), Var(right, linalg.py:593)], kws=(), vararg=None, varkwarg=None, target=None)\" at /home/fdamicel/projects/echoes/.venv/lib/python3.13/site-packages/numba/np/linalg.py (593)\nDuring: Pass native_lowering\nDuring: typing of intrinsic-call at /home/fdamicel/projects/echoes/src/echoes/reservoir/_leaky_numba.py (160)\n\nFile \"../../src/echoes/reservoir/_leaky_numba.py\", line 160:\ndef update_state(\n    <source elided>\n    \"\"\"\n    new_state = activation(W_in @ X_t + W @ state_t + W_fb @ y_t + bias)\n    ^\n\nDuring: Pass nopython_type_inference\nDuring: resolving callee type: type(CPUDispatcher(<function update_state at 0x7cc51a69db20>))\nDuring: typing of call at /home/fdamicel/projects/echoes/src/echoes/reservoir/_leaky_numba.py (196)\n\nDuring: resolving callee type: type(CPUDispatcher(<function update_state at 0x7cc51a69db20>))\nDuring: typing of call at /home/fdamicel/projects/echoes/src/echoes/reservoir/_leaky_numba.py (196)\n\n\nFile \"../../src/echoes/reservoir/_leaky_numba.py\", line 196:\ndef harvest_states(\n    <source elided>\n    for t in range(1, n_time_steps):\n        states[t, :] = update_state(\n        ^\n\nDuring: Pass nopython_type_inference",
     "output_type": "error",
     "traceback": [
      "\u001b[31m---------------------------------------------------------------------------\u001b[39m",
      "\u001b[31mTypingError\u001b[39m                               Traceback (most recent call last)",
      "\u001b[36mCell\u001b[39m\u001b[36m \u001b[39m\u001b[32mIn[6]\u001b[39m\u001b[32m, line 1\u001b[39m\n\u001b[32m----> \u001b[39m\u001b[32m1\u001b[39m \u001b[43mcheck_estimator\u001b[49m\u001b[43m(\u001b[49m\u001b[43mESNGenerator\u001b[49m\u001b[43m(\u001b[49m\u001b[43m)\u001b[49m\u001b[43m)\u001b[49m\n",
      "\u001b[36mFile \u001b[39m\u001b[32m~/projects/echoes/.venv/lib/python3.13/site-packages/sklearn/utils/_param_validation.py:216\u001b[39m, in \u001b[36mvalidate_params.<locals>.decorator.<locals>.wrapper\u001b[39m\u001b[34m(*args, **kwargs)\u001b[39m\n\u001b[32m    210\u001b[39m \u001b[38;5;28;01mtry\u001b[39;00m:\n\u001b[32m    211\u001b[39m     \u001b[38;5;28;01mwith\u001b[39;00m config_context(\n\u001b[32m    212\u001b[39m         skip_parameter_validation=(\n\u001b[32m    213\u001b[39m             prefer_skip_nested_validation \u001b[38;5;129;01mor\u001b[39;00m global_skip_validation\n\u001b[32m    214\u001b[39m         )\n\u001b[32m    215\u001b[39m     ):\n\u001b[32m--> \u001b[39m\u001b[32m216\u001b[39m         \u001b[38;5;28;01mreturn\u001b[39;00m \u001b[43mfunc\u001b[49m\u001b[43m(\u001b[49m\u001b[43m*\u001b[49m\u001b[43margs\u001b[49m\u001b[43m,\u001b[49m\u001b[43m \u001b[49m\u001b[43m*\u001b[49m\u001b[43m*\u001b[49m\u001b[43mkwargs\u001b[49m\u001b[43m)\u001b[49m\n\u001b[32m    217\u001b[39m \u001b[38;5;28;01mexcept\u001b[39;00m InvalidParameterError \u001b[38;5;28;01mas\u001b[39;00m e:\n\u001b[32m    218\u001b[39m     \u001b[38;5;66;03m# When the function is just a wrapper around an estimator, we allow\u001b[39;00m\n\u001b[32m    219\u001b[39m     \u001b[38;5;66;03m# the function to delegate validation to the estimator, but we replace\u001b[39;00m\n\u001b[32m    220\u001b[39m     \u001b[38;5;66;03m# the name of the estimator by the name of the function in the error\u001b[39;00m\n\u001b[32m    221\u001b[39m     \u001b[38;5;66;03m# message to avoid confusion.\u001b[39;00m\n\u001b[32m    222\u001b[39m     msg = re.sub(\n\u001b[32m    223\u001b[39m         \u001b[33mr\u001b[39m\u001b[33m\"\u001b[39m\u001b[33mparameter of \u001b[39m\u001b[33m\\\u001b[39m\u001b[33mw+ must be\u001b[39m\u001b[33m\"\u001b[39m,\n\u001b[32m    224\u001b[39m         \u001b[33mf\u001b[39m\u001b[33m\"\u001b[39m\u001b[33mparameter of \u001b[39m\u001b[38;5;132;01m{\u001b[39;00mfunc.\u001b[34m__qualname__\u001b[39m\u001b[38;5;132;01m}\u001b[39;00m\u001b[33m must be\u001b[39m\u001b[33m\"\u001b[39m,\n\u001b[32m    225\u001b[39m         \u001b[38;5;28mstr\u001b[39m(e),\n\u001b[32m    226\u001b[39m     )\n",
      "\u001b[36mFile \u001b[39m\u001b[32m~/projects/echoes/.venv/lib/python3.13/site-packages/sklearn/utils/estimator_checks.py:858\u001b[39m, in \u001b[36mcheck_estimator\u001b[39m\u001b[34m(estimator, generate_only, legacy, expected_failed_checks, on_skip, on_fail, callback)\u001b[39m\n\u001b[32m    854\u001b[39m test_can_fail, reason = _should_be_skipped_or_marked(\n\u001b[32m    855\u001b[39m     estimator, check, expected_failed_checks\n\u001b[32m    856\u001b[39m )\n\u001b[32m    857\u001b[39m \u001b[38;5;28;01mtry\u001b[39;00m:\n\u001b[32m--> \u001b[39m\u001b[32m858\u001b[39m     \u001b[43mcheck\u001b[49m\u001b[43m(\u001b[49m\u001b[43mestimator\u001b[49m\u001b[43m)\u001b[49m\n\u001b[32m    859\u001b[39m \u001b[38;5;28;01mexcept\u001b[39;00m SkipTest \u001b[38;5;28;01mas\u001b[39;00m e:\n\u001b[32m    860\u001b[39m     \u001b[38;5;66;03m# We get here if the test raises SkipTest, which is expected in cases where\u001b[39;00m\n\u001b[32m    861\u001b[39m     \u001b[38;5;66;03m# the check cannot run for instance if a required dependency is not\u001b[39;00m\n\u001b[32m    862\u001b[39m     \u001b[38;5;66;03m# installed.\u001b[39;00m\n\u001b[32m    863\u001b[39m     check_result = {\n\u001b[32m    864\u001b[39m         \u001b[33m\"\u001b[39m\u001b[33mestimator\u001b[39m\u001b[33m\"\u001b[39m: estimator,\n\u001b[32m    865\u001b[39m         \u001b[33m\"\u001b[39m\u001b[33mcheck_name\u001b[39m\u001b[33m\"\u001b[39m: _check_name(check),\n\u001b[32m   (...)\u001b[39m\u001b[32m    869\u001b[39m         \u001b[33m\"\u001b[39m\u001b[33mexpected_to_fail_reason\u001b[39m\u001b[33m\"\u001b[39m: reason,\n\u001b[32m    870\u001b[39m     }\n",
      "\u001b[36mFile \u001b[39m\u001b[32m~/projects/echoes/.venv/lib/python3.13/site-packages/sklearn/utils/_testing.py:147\u001b[39m, in \u001b[36m_IgnoreWarnings.__call__.<locals>.wrapper\u001b[39m\u001b[34m(*args, **kwargs)\u001b[39m\n\u001b[32m    145\u001b[39m \u001b[38;5;28;01mwith\u001b[39;00m warnings.catch_warnings():\n\u001b[32m    146\u001b[39m     warnings.simplefilter(\u001b[33m\"\u001b[39m\u001b[33mignore\u001b[39m\u001b[33m\"\u001b[39m, \u001b[38;5;28mself\u001b[39m.category)\n\u001b[32m--> \u001b[39m\u001b[32m147\u001b[39m     \u001b[38;5;28;01mreturn\u001b[39;00m \u001b[43mfn\u001b[49m\u001b[43m(\u001b[49m\u001b[43m*\u001b[49m\u001b[43margs\u001b[49m\u001b[43m,\u001b[49m\u001b[43m \u001b[49m\u001b[43m*\u001b[49m\u001b[43m*\u001b[49m\u001b[43mkwargs\u001b[49m\u001b[43m)\u001b[49m\n",
      "\u001b[36mFile \u001b[39m\u001b[32m~/projects/echoes/.venv/lib/python3.13/site-packages/sklearn/utils/estimator_checks.py:2236\u001b[39m, in \u001b[36mcheck_fit_score_takes_y\u001b[39m\u001b[34m(name, estimator_orig)\u001b[39m\n\u001b[32m   2234\u001b[39m func = \u001b[38;5;28mgetattr\u001b[39m(estimator, func_name, \u001b[38;5;28;01mNone\u001b[39;00m)\n\u001b[32m   2235\u001b[39m \u001b[38;5;28;01mif\u001b[39;00m func \u001b[38;5;129;01mis\u001b[39;00m \u001b[38;5;129;01mnot\u001b[39;00m \u001b[38;5;28;01mNone\u001b[39;00m:\n\u001b[32m-> \u001b[39m\u001b[32m2236\u001b[39m     \u001b[43mfunc\u001b[49m\u001b[43m(\u001b[49m\u001b[43mX\u001b[49m\u001b[43m,\u001b[49m\u001b[43m \u001b[49m\u001b[43my\u001b[49m\u001b[43m)\u001b[49m\n\u001b[32m   2237\u001b[39m     args = [p.name \u001b[38;5;28;01mfor\u001b[39;00m p \u001b[38;5;129;01min\u001b[39;00m signature(func).parameters.values()]\n\u001b[32m   2238\u001b[39m     \u001b[38;5;28;01mif\u001b[39;00m args[\u001b[32m0\u001b[39m] == \u001b[33m\"\u001b[39m\u001b[33mself\u001b[39m\u001b[33m\"\u001b[39m:\n\u001b[32m   2239\u001b[39m         \u001b[38;5;66;03m# available_if makes methods into functions\u001b[39;00m\n\u001b[32m   2240\u001b[39m         \u001b[38;5;66;03m# with an explicit \"self\", so need to shift arguments\u001b[39;00m\n",
      "\u001b[36mFile \u001b[39m\u001b[32m<string>:36\u001b[39m, in \u001b[36mfit\u001b[39m\u001b[34m(self, X, y)\u001b[39m\n",
      "\u001b[36mFile \u001b[39m\u001b[32m~/projects/echoes/src/echoes/reservoir/_leaky_numba.py:129\u001b[39m, in \u001b[36mReservoirLeakyNeurons.harvest_states\u001b[39m\u001b[34m(self, X, y, initial_state)\u001b[39m\n\u001b[32m    123\u001b[39m \u001b[38;5;28;01mdef\u001b[39;00m\u001b[38;5;250m \u001b[39m\u001b[34mharvest_states\u001b[39m(\n\u001b[32m    124\u001b[39m     \u001b[38;5;28mself\u001b[39m,\n\u001b[32m    125\u001b[39m     X: np.ndarray,\n\u001b[32m    126\u001b[39m     y: np.ndarray,\n\u001b[32m    127\u001b[39m     initial_state: np.ndarray | \u001b[38;5;28;01mNone\u001b[39;00m = \u001b[38;5;28;01mNone\u001b[39;00m,\n\u001b[32m    128\u001b[39m ) -> np.ndarray:\n\u001b[32m--> \u001b[39m\u001b[32m129\u001b[39m     states = \u001b[43mharvest_states\u001b[49m\u001b[43m(\u001b[49m\n\u001b[32m    130\u001b[39m \u001b[43m        \u001b[49m\u001b[43mX\u001b[49m\u001b[43m=\u001b[49m\u001b[43mX\u001b[49m\u001b[43m,\u001b[49m\n\u001b[32m    131\u001b[39m \u001b[43m        \u001b[49m\u001b[43my\u001b[49m\u001b[43m=\u001b[49m\u001b[43my\u001b[49m\u001b[43m,\u001b[49m\n\u001b[32m    132\u001b[39m \u001b[43m        \u001b[49m\u001b[43minitial_state\u001b[49m\u001b[43m=\u001b[49m\u001b[43minitial_state\u001b[49m\u001b[43m,\u001b[49m\n\u001b[32m    133\u001b[39m \u001b[43m        \u001b[49m\u001b[43mW_in\u001b[49m\u001b[43m=\u001b[49m\u001b[38;5;28;43mself\u001b[39;49m\u001b[43m.\u001b[49m\u001b[43mW_in\u001b[49m\u001b[43m,\u001b[49m\n\u001b[32m    134\u001b[39m \u001b[43m        \u001b[49m\u001b[43mW\u001b[49m\u001b[43m=\u001b[49m\u001b[38;5;28;43mself\u001b[39;49m\u001b[43m.\u001b[49m\u001b[43mW\u001b[49m\u001b[43m,\u001b[49m\n\u001b[32m    135\u001b[39m \u001b[43m        \u001b[49m\u001b[43mW_fb\u001b[49m\u001b[43m=\u001b[49m\u001b[38;5;28;43mself\u001b[39;49m\u001b[43m.\u001b[49m\u001b[43mW_fb\u001b[49m\u001b[43m,\u001b[49m\n\u001b[32m    136\u001b[39m \u001b[43m        \u001b[49m\u001b[43mbias\u001b[49m\u001b[43m=\u001b[49m\u001b[38;5;28;43mself\u001b[39;49m\u001b[43m.\u001b[49m\u001b[43mbias\u001b[49m\u001b[43m,\u001b[49m\n\u001b[32m    137\u001b[39m \u001b[43m        \u001b[49m\u001b[43mactivation\u001b[49m\u001b[43m=\u001b[49m\u001b[38;5;28;43mself\u001b[39;49m\u001b[43m.\u001b[49m\u001b[43mactivation\u001b[49m\u001b[43m,\u001b[49m\n\u001b[32m    138\u001b[39m \u001b[43m        \u001b[49m\u001b[43mnoise\u001b[49m\u001b[43m=\u001b[49m\u001b[38;5;28;43mself\u001b[39;49m\u001b[43m.\u001b[49m\u001b[43mnoise\u001b[49m\u001b[43m,\u001b[49m\n\u001b[32m    139\u001b[39m \u001b[43m        \u001b[49m\u001b[43mleak_rate\u001b[49m\u001b[43m=\u001b[49m\u001b[38;5;28;43mself\u001b[39;49m\u001b[43m.\u001b[49m\u001b[43mleak_rate\u001b[49m\u001b[43m,\u001b[49m\n\u001b[32m    140\u001b[39m \u001b[43m    \u001b[49m\u001b[43m)\u001b[49m\n\u001b[32m    141\u001b[39m     \u001b[38;5;28;01mreturn\u001b[39;00m states\n",
      "\u001b[36mFile \u001b[39m\u001b[32m~/projects/echoes/.venv/lib/python3.13/site-packages/numba/core/dispatcher.py:424\u001b[39m, in \u001b[36m_DispatcherBase._compile_for_args\u001b[39m\u001b[34m(self, *args, **kws)\u001b[39m\n\u001b[32m    420\u001b[39m         msg = (\u001b[33mf\u001b[39m\u001b[33m\"\u001b[39m\u001b[38;5;132;01m{\u001b[39;00m\u001b[38;5;28mstr\u001b[39m(e).rstrip()\u001b[38;5;132;01m}\u001b[39;00m\u001b[33m \u001b[39m\u001b[38;5;130;01m\\n\u001b[39;00m\u001b[38;5;130;01m\\n\u001b[39;00m\u001b[33mThis error may have been caused \u001b[39m\u001b[33m\"\u001b[39m\n\u001b[32m    421\u001b[39m                \u001b[33mf\u001b[39m\u001b[33m\"\u001b[39m\u001b[33mby the following argument(s):\u001b[39m\u001b[38;5;130;01m\\n\u001b[39;00m\u001b[38;5;132;01m{\u001b[39;00margs_str\u001b[38;5;132;01m}\u001b[39;00m\u001b[38;5;130;01m\\n\u001b[39;00m\u001b[33m\"\u001b[39m)\n\u001b[32m    422\u001b[39m         e.patch_message(msg)\n\u001b[32m--> \u001b[39m\u001b[32m424\u001b[39m     \u001b[43merror_rewrite\u001b[49m\u001b[43m(\u001b[49m\u001b[43me\u001b[49m\u001b[43m,\u001b[49m\u001b[43m \u001b[49m\u001b[33;43m'\u001b[39;49m\u001b[33;43mtyping\u001b[39;49m\u001b[33;43m'\u001b[39;49m\u001b[43m)\u001b[49m\n\u001b[32m    425\u001b[39m \u001b[38;5;28;01mexcept\u001b[39;00m errors.UnsupportedError \u001b[38;5;28;01mas\u001b[39;00m e:\n\u001b[32m    426\u001b[39m     \u001b[38;5;66;03m# Something unsupported is present in the user code, add help info\u001b[39;00m\n\u001b[32m    427\u001b[39m     error_rewrite(e, \u001b[33m'\u001b[39m\u001b[33munsupported_error\u001b[39m\u001b[33m'\u001b[39m)\n",
      "\u001b[36mFile \u001b[39m\u001b[32m~/projects/echoes/.venv/lib/python3.13/site-packages/numba/core/dispatcher.py:365\u001b[39m, in \u001b[36m_DispatcherBase._compile_for_args.<locals>.error_rewrite\u001b[39m\u001b[34m(e, issue_type)\u001b[39m\n\u001b[32m    363\u001b[39m     \u001b[38;5;28;01mraise\u001b[39;00m e\n\u001b[32m    364\u001b[39m \u001b[38;5;28;01melse\u001b[39;00m:\n\u001b[32m--> \u001b[39m\u001b[32m365\u001b[39m     \u001b[38;5;28;01mraise\u001b[39;00m e.with_traceback(\u001b[38;5;28;01mNone\u001b[39;00m)\n",
      "\u001b[31mTypingError\u001b[39m: Failed in nopython mode pipeline (step: nopython frontend)\nFailed in nopython mode pipeline (step: nopython frontend)\nFailed in nopython mode pipeline (step: native lowering)\nFailed in nopython mode pipeline (step: nopython frontend)\nNo implementation of function Function(<built-in function dot>) found for signature:\n \n >>> dot(array(int64, 2d, C), array(int64, 1d, C), array(int64, 1d, C))\n \nThere are 4 candidate implementations:\n      - Of which 2 did not match due to:\n      Overload in function 'dot_2': File: numba/np/linalg.py: Line 536.\n        With argument(s): '(array(int64, 2d, C), array(int64, 1d, C), array(int64, 1d, C))':\n       Rejected as the implementation raised a specific error:\n         TypingError: too many positional arguments\n  raised from /home/fdamicel/projects/echoes/.venv/lib/python3.13/site-packages/numba/core/typing/templates.py:791\n      - Of which 2 did not match due to:\n      Overload in function 'dot_3': File: numba/np/linalg.py: Line 795.\n        With argument(s): '(array(int64, 2d, C), array(int64, 1d, C), array(int64, 1d, C))':\n       Rejected as the implementation raised a specific error:\n         NumbaTypeError: Failed in nopython mode pipeline (step: native lowering)\n       unsupported dtype for <BLAS function>()\n       During: lowering \"$14call.5 = call $6load_deref.0(left, right, out, func=$6load_deref.0, args=[Var(left, linalg.py:828), Var(right, linalg.py:828), Var(out, linalg.py:828)], kws=(), vararg=None, varkwarg=None, target=None)\" at /home/fdamicel/projects/echoes/.venv/lib/python3.13/site-packages/numba/np/linalg.py (828)\n       During: Pass native_lowering\n  raised from /home/fdamicel/projects/echoes/.venv/lib/python3.13/site-packages/numba/np/linalg.py:62\n\nDuring: resolving callee type: Function(<built-in function dot>)\nDuring: typing of call at /home/fdamicel/projects/echoes/.venv/lib/python3.13/site-packages/numba/np/linalg.py (503)\n\n\nFile \"../../.venv/lib/python3.13/site-packages/numba/np/linalg.py\", line 503:\n    def dot_impl(a, b):\n        <source elided>\n        out = np.empty((m, ), a.dtype)\n        return np.dot(a, b, out)\n        ^\n\nDuring: Pass nopython_type_inference\nDuring: lowering \"$12call.4 = call $6load_deref.0(left, right, func=$6load_deref.0, args=[Var(left, linalg.py:593), Var(right, linalg.py:593)], kws=(), vararg=None, varkwarg=None, target=None)\" at /home/fdamicel/projects/echoes/.venv/lib/python3.13/site-packages/numba/np/linalg.py (593)\nDuring: Pass native_lowering\nDuring: typing of intrinsic-call at /home/fdamicel/projects/echoes/src/echoes/reservoir/_leaky_numba.py (160)\n\nFile \"../../src/echoes/reservoir/_leaky_numba.py\", line 160:\ndef update_state(\n    <source elided>\n    \"\"\"\n    new_state = activation(W_in @ X_t + W @ state_t + W_fb @ y_t + bias)\n    ^\n\nDuring: Pass nopython_type_inference\nDuring: resolving callee type: type(CPUDispatcher(<function update_state at 0x7cc51a69db20>))\nDuring: typing of call at /home/fdamicel/projects/echoes/src/echoes/reservoir/_leaky_numba.py (196)\n\nDuring: resolving callee type: type(CPUDispatcher(<function update_state at 0x7cc51a69db20>))\nDuring: typing of call at /home/fdamicel/projects/echoes/src/echoes/reservoir/_leaky_numba.py (196)\n\n\nFile \"../../src/echoes/reservoir/_leaky_numba.py\", line 196:\ndef harvest_states(\n    <source elided>\n    for t in range(1, n_time_steps):\n        states[t, :] = update_state(\n        ^\n\nDuring: Pass nopython_type_inference"
     ]
    }
   ],
   "source": [
    "check_estimator(ESNGenerator())"
   ]
  },
  {
   "cell_type": "code",
   "execution_count": null,
   "metadata": {},
   "outputs": [],
   "source": []
  },
  {
   "cell_type": "code",
   "execution_count": null,
   "metadata": {},
   "outputs": [],
   "source": []
  }
 ],
 "metadata": {
  "kernelspec": {
   "display_name": "Python 3 (ipykernel)",
   "language": "python",
   "name": "python3"
  },
  "language_info": {
   "codemirror_mode": {
    "name": "ipython",
    "version": 3
   },
   "file_extension": ".py",
   "mimetype": "text/x-python",
   "name": "python",
   "nbconvert_exporter": "python",
   "pygments_lexer": "ipython3",
   "version": "3.13.3"
  }
 },
 "nbformat": 4,
 "nbformat_minor": 4
}
