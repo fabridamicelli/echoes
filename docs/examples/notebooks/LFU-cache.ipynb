{
 "cells": [
  {
   "cell_type": "markdown",
   "id": "d7b001d8-3e04-4d30-9aad-cb88b10a7aa5",
   "metadata": {},
   "source": [
    "# "
   ]
  },
  {
   "cell_type": "code",
   "execution_count": 1,
   "id": "3b473902-349a-4fcc-a856-8409520bf408",
   "metadata": {},
   "outputs": [],
   "source": [
    "class LFUCache:\n",
    "    def __init__(self, capacity):\n",
    "        self.capacity = capacity\n",
    "        self.min_freq = 1\n",
    "        self.min_freq_key = None\n",
    "        self.key_freqs = {}\n",
    "        self.cache = {}\n",
    "\n",
    "    def update(self, key, val):\n",
    "        if self.min_freq_key is None:\n",
    "            self.min_freq_key = key\n",
    "            \n",
    "        freq = self.key_freqs.get(key, 0)\n",
    "        self.key_freqs[key] = freq + 1\n",
    "        \n",
    "        cached_val = self.cache.get(key)\n",
    "        if cached_val is None:\n",
    "            self.cache[key] = val\n",
    "             \n",
    "        if freq < self.min_freq:\n",
    "            self.min_freq = freq\n",
    "            self.min_freq_key = key\n",
    "            \n",
    "        if len(self.cache) > self.capacity:\n",
    "            self.cache.pop(self.min_freq_key, None)\n",
    "            self.key_freqs.pop(self.min_freq_key, None)\n",
    "\n",
    "            min_freq_key, min_freq = sorted(self.key_freqs.items(), key=lambda it:[1])[-1]\n",
    "            self.min_freq_key = min_freq_key\n",
    "            self.min_freq = min_freq\n",
    "            \n",
    "        \n",
    "    def get_val(self, key):\n",
    "        val = self.cache.get(key)\n",
    "        self.update(key, val)\n",
    "        return val\n",
    "\n",
    "    def __repr__(self):\n",
    "        return f\"\"\"\\\n",
    "cache = {self.cache}\n",
    "min_freq = {self.min_freq}\n",
    "key_freqs = {self.key_freqs}\n",
    "\"\"\""
   ]
  },
  {
   "cell_type": "code",
   "execution_count": 11,
   "id": "2dac0a63-61d3-4bdf-94cb-699130ce7f75",
   "metadata": {},
   "outputs": [
    {
     "data": {
      "text/plain": [
       "cache = {'b': 'b', 'c': 'b', 'd': 'b'}\n",
       "min_freq = 2\n",
       "key_freqs = {'b': 1, 'c': 2, 'd': 2}"
      ]
     },
     "execution_count": 11,
     "metadata": {},
     "output_type": "execute_result"
    }
   ],
   "source": [
    "lfu = LFUCache(3)\n",
    "lfu.update(\"a\", \"b\")\n",
    "lfu.update(\"b\", \"b\")\n",
    "lfu.update(\"c\", \"b\")\n",
    "lfu.update(\"c\", \"b\")\n",
    "lfu.update(\"d\", \"b\")\n",
    "lfu.update(\"d\", \"b\")\n",
    "#lfu.update(\"e\", \"b\")\n",
    "#lfu.update(\"f\", \"b\")\n",
    "#lfu.update(\"f\", \"b\")\n",
    "#lfu.update(\"f\", \"b\")\n",
    "#lfu.update(\"f\", \"b\")\n",
    "lfu"
   ]
  },
  {
   "cell_type": "code",
   "execution_count": null,
   "id": "4dac7515-ad21-451f-8de1-a1b7bbfaa8d0",
   "metadata": {},
   "outputs": [],
   "source": []
  },
  {
   "cell_type": "code",
   "execution_count": null,
   "id": "afe0c644-3a8d-4102-94d1-41861c5b1b85",
   "metadata": {},
   "outputs": [],
   "source": []
  },
  {
   "cell_type": "code",
   "execution_count": null,
   "id": "9fccea9b-770f-4d0d-9c94-3cd0b969c9fe",
   "metadata": {},
   "outputs": [],
   "source": []
  },
  {
   "cell_type": "code",
   "execution_count": null,
   "id": "5ca44b2d-07e1-4d21-a3bb-cd4af2fd0466",
   "metadata": {},
   "outputs": [],
   "source": []
  },
  {
   "cell_type": "code",
   "execution_count": null,
   "id": "c7a5e988-8b8e-41ff-8a7c-3bf92a4cc63d",
   "metadata": {},
   "outputs": [],
   "source": [
    "import random \n",
    "from functools import lru_cache\n",
    "\n",
    "@lru_cache\n",
    "def f(arg):\n",
    "    if random.random() < 0.5:\n",
    "        return 1\n",
    "    return 2\n",
    "\n",
    "sum([f(\"a\") for _ in range(10_000)])"
   ]
  },
  {
   "cell_type": "code",
   "execution_count": 34,
   "id": "d9bc0d21-81fe-4322-b37e-c656dea08da7",
   "metadata": {},
   "outputs": [
    {
     "data": {
      "text/plain": [
       "{'maxsize': 128, 'typed': False}"
      ]
     },
     "execution_count": 34,
     "metadata": {},
     "output_type": "execute_result"
    }
   ],
   "source": [
    "f.cache_parameters()"
   ]
  },
  {
   "cell_type": "code",
   "execution_count": null,
   "id": "bc01f4ec-e789-4c47-90e0-d407e17b236f",
   "metadata": {},
   "outputs": [],
   "source": []
  }
 ],
 "metadata": {
  "kernelspec": {
   "display_name": "Python 3 (ipykernel)",
   "language": "python",
   "name": "python3"
  },
  "language_info": {
   "codemirror_mode": {
    "name": "ipython",
    "version": 3
   },
   "file_extension": ".py",
   "mimetype": "text/x-python",
   "name": "python",
   "nbconvert_exporter": "python",
   "pygments_lexer": "ipython3",
   "version": "3.13.3"
  }
 },
 "nbformat": 4,
 "nbformat_minor": 5
}
